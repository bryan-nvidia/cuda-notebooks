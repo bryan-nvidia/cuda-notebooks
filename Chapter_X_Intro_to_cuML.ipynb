{
 "cells": [
  {
   "cell_type": "markdown",
   "id": "72a102bd-381c-40a7-9c01-c06e37de889f",
   "metadata": {},
   "source": [
    "- quickstart: go through installation, imports, etc. \n",
    "- understand why to use cuML\n",
    "- at a high level, what are main features of cuML and why you would use it\n",
    "- put in links to documentation (cuML + scikitlearn) \n",
    "- explain what is happening in each example \n",
    "\n",
    "# 🚀 Welcome to the World of cuML!\n",
    "\n",
    "As part of the NVIDIA RAPIDS suite, cuML is incredibly useful for accelerating the end-to-end machine learning pipeline, from data preprocessing to model training and evaluation, utilizing the parallel processing capabilities of NVIDIA GPUs. It’s like taking a turbocharged sports car for a spin instead of a regular sedan—everything is faster and more exciting!\n",
    "\n",
    "\n",
    "\n",
    "To sum it up, core strengths of cuML include: \n",
    "🎉 matches scikit-learn API (users are already familiar with syntax and functionalities)\n",
    "🎉 cuML estimators accept flexible types and returns predictable types\n",
    "🎉 can optimize CPU based equivalents by a factor of 4x to 100x\n",
    "\n",
    "\n",
    "\n"
   ]
  },
  {
   "cell_type": "markdown",
   "id": "6d5dd711-7df3-43a4-b09a-c62f5e428750",
   "metadata": {},
   "source": [
    "## 📊 Let's Dive Into Data\n",
    "cuML works seamlessly with cuDF DataFrames, so let’s create a simple DataFrame."
   ]
  },
  {
   "cell_type": "code",
   "execution_count": 2,
   "id": "c91a9f35-768f-4557-a811-cbad4f881f76",
   "metadata": {},
   "outputs": [
    {
     "data": {
      "text/html": [
       "<div>\n",
       "<style scoped>\n",
       "    .dataframe tbody tr th:only-of-type {\n",
       "        vertical-align: middle;\n",
       "    }\n",
       "\n",
       "    .dataframe tbody tr th {\n",
       "        vertical-align: top;\n",
       "    }\n",
       "\n",
       "    .dataframe thead th {\n",
       "        text-align: right;\n",
       "    }\n",
       "</style>\n",
       "<table border=\"1\" class=\"dataframe\">\n",
       "  <thead>\n",
       "    <tr style=\"text-align: right;\">\n",
       "      <th></th>\n",
       "      <th>x1</th>\n",
       "      <th>x2</th>\n",
       "      <th>y</th>\n",
       "    </tr>\n",
       "  </thead>\n",
       "  <tbody>\n",
       "    <tr>\n",
       "      <th>0</th>\n",
       "      <td>0.256883</td>\n",
       "      <td>0.828882</td>\n",
       "      <td>0</td>\n",
       "    </tr>\n",
       "    <tr>\n",
       "      <th>1</th>\n",
       "      <td>0.410634</td>\n",
       "      <td>0.166474</td>\n",
       "      <td>1</td>\n",
       "    </tr>\n",
       "    <tr>\n",
       "      <th>2</th>\n",
       "      <td>0.841882</td>\n",
       "      <td>0.942280</td>\n",
       "      <td>0</td>\n",
       "    </tr>\n",
       "    <tr>\n",
       "      <th>3</th>\n",
       "      <td>0.574056</td>\n",
       "      <td>0.059603</td>\n",
       "      <td>1</td>\n",
       "    </tr>\n",
       "    <tr>\n",
       "      <th>4</th>\n",
       "      <td>0.345641</td>\n",
       "      <td>0.234410</td>\n",
       "      <td>0</td>\n",
       "    </tr>\n",
       "  </tbody>\n",
       "</table>\n",
       "</div>"
      ],
      "text/plain": [
       "         x1        x2  y\n",
       "0  0.256883  0.828882  0\n",
       "1  0.410634  0.166474  1\n",
       "2  0.841882  0.942280  0\n",
       "3  0.574056  0.059603  1\n",
       "4  0.345641  0.234410  0"
      ]
     },
     "execution_count": 2,
     "metadata": {},
     "output_type": "execute_result"
    }
   ],
   "source": [
    "import cudf\n",
    "import numpy as np\n",
    "\n",
    "# Creating a random DataFrame\n",
    "data = cudf.DataFrame({\n",
    "    'x1': np.random.rand(1000),\n",
    "    'x2': np.random.rand(1000),\n",
    "    'y': np.random.randint(0, 2, size=1000)\n",
    "})\n",
    "\n",
    "data.head()"
   ]
  },
  {
   "cell_type": "markdown",
   "id": "b7d686ad-e50c-4cc3-b0cd-d15645880ec3",
   "metadata": {},
   "source": [
    "💡 Challenge: modify the number of rows in the DataFrame and observe how it changes the output!\n"
   ]
  },
  {
   "cell_type": "markdown",
   "id": "738fa0e1-1799-4042-8912-4b641c56c2ff",
   "metadata": {},
   "source": [
    "## 📈 Training a Model\n",
    "Let’s train a simple Logistic Regression model to understand how cuML speeds up the training process."
   ]
  },
  {
   "cell_type": "code",
   "execution_count": 12,
   "id": "7b010ca2-0d92-4022-9d8c-df2a8ee71113",
   "metadata": {},
   "outputs": [],
   "source": [
    "from cuml.linear_model import LogisticRegression\n",
    "from cuml.model_selection import train_test_split\n",
    "\n",
    "#split the data into training and testing sets\n",
    "X = data[['x1', 'x2']]\n",
    "y = data['y']\n",
    "X_train, X_test, y_train, y_test = train_test_split(X, y, train_size = 0.8)\n",
    "model = LogisticRegression()\n",
    "model.fit(X_train, y_train)\n",
    "\n",
    "predictions = model.predict(X_test)"
   ]
  },
  {
   "cell_type": "markdown",
   "id": "fae215da-fba6-4bf9-bd81-cc963c97544d",
   "metadata": {},
   "source": [
    "💡 Challenge: Play around with different parameters for LogisticRegression. Try changing the solver or adding regularization. What happens?"
   ]
  },
  {
   "cell_type": "markdown",
   "id": "27f49675-ffd6-40f5-82bc-9414c9226abc",
   "metadata": {},
   "source": [
    "## 🔍 Evaluating Your Model\n",
    "\n",
    "How long did fitting the model on the GPU take?"
   ]
  },
  {
   "cell_type": "code",
   "execution_count": 9,
   "id": "82220ef3-dede-4873-973a-9fd591eb236e",
   "metadata": {},
   "outputs": [
    {
     "name": "stdout",
     "output_type": "stream",
     "text": [
      "GPU Training Time: 0.0118 seconds\n"
     ]
    }
   ],
   "source": [
    "import time \n",
    "\n",
    "# Timing the GPU model training\n",
    "start_time = time.time()\n",
    "model = LogisticRegression()\n",
    "model.fit(X_train, y_train)\n",
    "gpu_time = time.time() - start_time\n",
    "print(f\"GPU Training Time: {gpu_time:.4f} seconds\")"
   ]
  },
  {
   "cell_type": "markdown",
   "id": "3df91585-6ff0-40f7-a86d-ca91cc473e97",
   "metadata": {},
   "source": [
    "Lets do the same for a model fit on the CPU instead: "
   ]
  },
  {
   "cell_type": "code",
   "execution_count": 10,
   "id": "a68adf5d-e293-442c-b9db-38bd31002961",
   "metadata": {},
   "outputs": [
    {
     "name": "stdout",
     "output_type": "stream",
     "text": [
      "CPU Training Time: 1.0668 seconds\n"
     ]
    }
   ],
   "source": [
    "from sklearn.linear_model import LogisticRegression as SklearnLogisticRegression\n",
    "from sklearn.model_selection import train_test_split\n",
    "import pandas as pd\n",
    "\n",
    "# Create a large random DataFrame using pandas\n",
    "data_pd = pd.DataFrame({\n",
    "    'x1': np.random.rand(1000000),\n",
    "    'x2': np.random.rand(1000000),\n",
    "    'y': np.random.randint(0, 2, size=1000000)\n",
    "})\n",
    "\n",
    "X_pd = data_pd[['x1', 'x2']]\n",
    "y_pd = data_pd['y']\n",
    "X_train_pd, X_test_pd, y_train_pd, y_test_pd = train_test_split(X_pd, y_pd, test_size=0.2)\n",
    "\n",
    "\n",
    "# Timing the CPU model training\n",
    "start_time = time.time()\n",
    "cpu_model = SklearnLogisticRegression()\n",
    "cpu_model.fit(X_train_pd, y_train_pd)\n",
    "\n",
    "cpu_time = time.time() - start_time\n",
    "print(f\"CPU Training Time: {cpu_time:.4f} seconds\")\n",
    "\n",
    "\n"
   ]
  },
  {
   "cell_type": "markdown",
   "id": "95927351-bcd1-4112-9623-575805242562",
   "metadata": {},
   "source": [
    "Although on surface level the code looked almost identical, the model using cuML was almost 100x as fast as the one using just scikitlearn! cuML on a GPU can significantly outperform traditional CPU-based machine learning libraries, especially with large datasets. The time savings become more pronounced as the data size increases, showcasing the advantages of leveraging GPU acceleration for machine learning tasks.\n",
    "\n",
    "💡 Challenge: if you have a specific dataset or model in mind, you could run the above examples to see the time differences firsthand!\n"
   ]
  },
  {
   "cell_type": "markdown",
   "id": "c2f04013-b1c4-454c-a4f7-b1807aae4f2b",
   "metadata": {},
   "source": [
    "## Basics\n",
    "\n",
    "- configuring output type \n",
    "- switching between GPU & CPU\n",
    "- "
   ]
  }
 ],
 "metadata": {
  "kernelspec": {
   "display_name": "Python 3 (ipykernel)",
   "language": "python",
   "name": "python3"
  },
  "language_info": {
   "codemirror_mode": {
    "name": "ipython",
    "version": 3
   },
   "file_extension": ".py",
   "mimetype": "text/x-python",
   "name": "python",
   "nbconvert_exporter": "python",
   "pygments_lexer": "ipython3",
   "version": "3.11.9"
  }
 },
 "nbformat": 4,
 "nbformat_minor": 5
}
