{
 "cells": [
  {
   "cell_type": "markdown",
   "metadata": {},
   "source": [
    "# Chapter 8: Graphs with cuGraph\n",
    "\n",
    "<img src=\"images/chapter-08/cugraph_logo_2.png\" style=\"width:600px;\"/>\n",
    "\n",
    "cuGRAPH is part of the RAPIDS AI suite and provides a set of graph analytics algorithms optimized for GPU performance. It supports various graph data structures and algorithms, enabling rapid processing of large-scale graph data.\n",
    "\n",
    "It allows for a seamless passing of data between ETL tasks in cuDF and machine learning tasks in cuML.\n",
    "\n",
    "\n",
    "## Key Benefits:\n",
    "- Performance: Accelerate your graph computations.\n",
    "- Scalability: Process large datasets that are infeasible for CPU-only solutions.\n",
    "- Integration: Easily combine with other RAPIDS libraries"
   ]
  },
  {
   "cell_type": "markdown",
   "metadata": {},
   "source": [
    "## cuGraph Using NetworkX Code\n",
    "cuGraph is now available as a NetworkX backend using nx-cugraph. This integration effort with NetworkX offers NetworkX users a zero code change option to accelerate their existing NetworkX code using an NVIDIA GPU and cuGraph.\n"
   ]
  },
  {
   "cell_type": "markdown",
   "metadata": {},
   "source": [
    "## Links to Handy References\n",
    "\n",
    "cuGraph Documentation: https://docs.rapids.ai/api/cugraph/stable/ \n",
    "\n",
    "NetworkX Introduces Zero Code Change Acceleration Using NVIDIA cuGraph: https://developer.nvidia.com/blog/networkx-introduces-zero-code-change-acceleration-using-nvidia-cugraph/\n",
    "\n",
    "NetworkX Documentation: https://networkx.org/ "
   ]
  },
  {
   "cell_type": "markdown",
   "metadata": {},
   "source": [
    "## Coding Guide\n",
    "\n",
    "### Prerequisites\n",
    "- CUDA-capable GPU: Ensure your system has a compatible NVIDIA GPU.\n",
    "- Software: Install the RAPIDS AI libraries, including cuGRAPH.\n",
    "\n",
    "### Installation via Conda\n",
    "\n",
    "``` \n",
    "conda create -n rapids-24.10 -c rapidsai -c conda-forge -c nvidia  \\\n",
    "    cudf=24.10 cugraph=24.10 python=3.12 'cuda-version>=12.0,<=12.5' \n",
    "```\n",
    "\n",
    "### Installation via Pip\n",
    "\n",
    "```\n",
    "pip install \\\n",
    "    --extra-index-url=https://pypi.nvidia.com \\\n",
    "    cudf-cu12==24.10.* cugraph-cu12==24.10.* \n",
    "```\n",
    "\n",
    "\n",
    "### Installation via Docker\n",
    "\n",
    "``` \n",
    "docker run --gpus all --pull always --rm -it \\\n",
    "    --shm-size=1g --ulimit memlock=-1 --ulimit stack=67108864 \\\n",
    "    nvcr.io/nvidia/rapidsai/base:24.10-cuda12.5-py3.12\n",
    "```"
   ]
  },
  {
   "cell_type": "markdown",
   "metadata": {},
   "source": [
    "### Verify Installation\n",
    "\n",
    "Run the following command in Python:\n",
    "\n",
    "```\n",
    "import cugraph\n",
    "print(cugraph.__version__)\n",
    "```"
   ]
  },
  {
   "cell_type": "markdown",
   "metadata": {},
   "source": [
    "## Core Features\n",
    "\n",
    "\n",
    "1. Graph Creation\n",
    "Create graphs from various formats (edge lists, adjacency matrices).\n",
    "\n",
    "2. Algorithms\n",
    "Key algorithms include:\n",
    "    - PageRank\n",
    "    - Connected Components\n",
    "    - Shortest Path\n",
    "    - Community Detection\n",
    "\n",
    "3. Visualization\n",
    "Integrate with visualization libraries for graph representation."
   ]
  },
  {
   "cell_type": "markdown",
   "metadata": {},
   "source": [
    "## Hands-On Examples\n",
    "\n",
    "### Example 1: Creating a Graph\n",
    "\n",
    "Create a simple graph from an edge list.\n",
    "\n",
    "An edge list is a simple way to represent a graph. It consists of pairs of nodes, where each pair indicates a connection (or edge) between two nodes.\n",
    "\n",
    "In our example, we'll create a small graph represented by the following edge list:\n",
    "\n",
    "Node 0 connects to Node 1\n",
    "Node 0 connects to Node 2\n",
    "Node 1 connects to Node 2\n",
    "Node 2 connects back to Node 0"
   ]
  },
  {
   "cell_type": "code",
   "execution_count": null,
   "metadata": {
    "vscode": {
     "languageId": "plaintext"
    }
   },
   "outputs": [],
   "source": [
    "import cudf\n",
    "import cugraph\n",
    "\n",
    "# Create a sample edge list\n",
    "edge_list = cudf.DataFrame({\n",
    "    'src': [0, 0, 1, 2],\n",
    "    'dst': [1, 2, 2, 0]\n",
    "})\n",
    "\n",
    "# Create the graph\n",
    "G = cugraph.Graph()\n",
    "G.from_cudf_edgelist(edge_list, source='src', destination='dst')"
   ]
  },
  {
   "cell_type": "markdown",
   "metadata": {},
   "source": [
    "As seen above, the value at each index in 'src' corresponds to the source node that connects to the value at the same index in 'dst'. \n",
    "\n",
    "Next, we create an instance of the Graph class from cuGRAPH. This object will hold our graph structure.\n",
    "\n",
    "To load the edge list into our graph object, we use the from_cudf_edgelist method. This method requires specifying which columns of the DataFrame represent the source and destination nodes.\n",
    "\n",
    "\n",
    "### Optional : Visualizing Graph \n",
    "\n",
    "- Install required libraries : NetworkX and Matplotlib\n",
    "```\n",
    "pip install networkx matplotlib\n",
    "```\n",
    "\n",
    "- Convert graph to NetworkX format : "
   ]
  },
  {
   "cell_type": "code",
   "execution_count": null,
   "metadata": {
    "vscode": {
     "languageId": "plaintext"
    }
   },
   "outputs": [],
   "source": [
    "import networkx as nx\n",
    "import matplotlib.pyplot as plt\n",
    "\n",
    "#creates empty NetworkX graph \n",
    "\n",
    "nx_graph = nx.DiGraph()\n",
    "\n",
    "\n",
    "# Add edges from cuGRAPH to NetworkX\n",
    "for u, v in zip(edge_list['src'].to_arrow().to_pylist(), edge_list['dst'].to_arrow().to_pylist()):\n",
    "    nx_graph.add_edge(u, v)\n",
    "\n",
    "# visualize the graph\n",
    "\n",
    "plt.figure(figsize=(8, 6))\n",
    "pos = nx.spring_layout(nx_graph)  # Positioning algorithm\n",
    "nx.draw(nx_graph, pos, with_labels=True, node_color='lightblue', node_size=1000, font_size=15, font_weight='bold', arrows=True)\n",
    "plt.title(\"Graph Visualization using NetworkX\")\n",
    "plt.show()"
   ]
  },
  {
   "cell_type": "markdown",
   "metadata": {},
   "source": [
    "### 💡 Challenge: Modify Graph \n",
    "Now that you can visualize the graph, try modifying the edge list to create a more complex graph and visualize it again. How does the layout change with different structures?"
   ]
  },
  {
   "cell_type": "code",
   "execution_count": null,
   "metadata": {
    "vscode": {
     "languageId": "plaintext"
    }
   },
   "outputs": [],
   "source": []
  }
 ],
 "metadata": {
  "kernelspec": {
   "display_name": "Python 3 (ipykernel)",
   "language": "python",
   "name": "python3"
  },
  "language_info": {
   "codemirror_mode": {
    "name": "ipython",
    "version": 3
   },
   "file_extension": ".py",
   "mimetype": "text/x-python",
   "name": "python",
   "nbconvert_exporter": "python",
   "pygments_lexer": "ipython3",
   "version": "3.11.7"
  }
 },
 "nbformat": 4,
 "nbformat_minor": 4
}
