{
 "cells": [
  {
   "attachments": {},
   "cell_type": "markdown",
   "id": "fab639be-7012-4227-8179-077ce5e40816",
   "metadata": {},
   "source": [
    "# Chapter 5: CUDA Kernels with Numba\n",
    "\n",
    "<img src=\"images/numba_title.png\" style=\"width:442px;\"/>\n",
    "\n",
    "Numba is an open source JIT compiler that translates a subset of Python and NumPy code into fast machine code.\n",
    "\n",
    "Numba supports CUDA GPU programming by directly compiling a restricted subset of Python code into CUDA kernels and device functions following the CUDA execution model. Kernels written in Numba appear to have direct access to NumPy arrays. NumPy arrays are transferred between the CPU and the GPU automatically.\n",
    "\n",
    "## Links to Handy References\n",
    "Numba for CUDA GPU’s: https://numba.pydata.org/numba-doc/latest/cuda/index.html \n",
    "\n",
    "CuPy’s interoperability guide (includes Numba): https://docs.cupy.dev/en/stable/user_guide/interoperability.html \n",
    "\n",
    "Numba Github repository: https://github.com/numba/numba \n"
   ]
  },
  {
   "cell_type": "markdown",
   "id": "9b90e798-1097-432c-8464-df20bcd44ca2",
   "metadata": {},
   "source": [
    "# Examples:"
   ]
  },
  {
   "cell_type": "markdown",
   "id": "4e7f01c8-7a37-459e-96b3-8d8c6fef7b40",
   "metadata": {},
   "source": [
    "## Defining and Launching a Kernel Function"
   ]
  },
  {
   "cell_type": "code",
   "execution_count": null,
   "id": "7ee68a00-ed02-46b9-be8d-33f44cd0dedf",
   "metadata": {},
   "outputs": [],
   "source": [
    "import numpy as np\n",
    "from numba import cuda\n",
    "\n",
    "input = np.asarray(range(10))\n",
    "output = np.zeros(len(input))\n",
    "\n",
    "@cuda.jit\n",
    "def foo(input_array, output_array):\n",
    "    # Thread id in a 1D block\n",
    "    thread_id = cuda.threadIdx.x\n",
    "    # Block id in a 1D grid\n",
    "    block_id = cuda.blockIdx.x\n",
    "    # Block width, i.e. number of threads per block\n",
    "    block_width = cuda.blockDim.x\n",
    "    # Compute flattened index inside the array\n",
    "    i = thread_id + block_id * block_width\n",
    "    if i < an_array.size:  # Check array boundaries\n",
    "        output_array[i] = input_array[i]\n",
    "\n",
    "block_threads = 32\n",
    "grid_blocks = (input.size + (block_threads - 1)) // block_threads\n",
    "\n",
    "foo[grid_blocks, block_threads](input, output)\n",
    "\n",
    "output"
   ]
  },
  {
   "cell_type": "markdown",
   "id": "869fdb03-8c5a-4ace-a92c-0a3e9b8e5a2d",
   "metadata": {},
   "source": [
    "## Simplified Kernel Function Using grid()"
   ]
  },
  {
   "cell_type": "code",
   "execution_count": null,
   "id": "2b04229f-cf77-431b-a194-d9b591aac1b4",
   "metadata": {},
   "outputs": [],
   "source": [
    "import numpy as np\n",
    "from numba import cuda\n",
    "\n",
    "input = np.asarray(range(10))\n",
    "output = np.zeros(len(input))\n",
    "\n",
    "@cuda.jit\n",
    "def foo(input_array, output_array):\n",
    "    i = cuda.grid(1)\n",
    "    output_array[i] = input_array[i]\n",
    "    \n",
    "foo[1, len(input)](input, output)\n",
    "\n",
    "output"
   ]
  },
  {
   "cell_type": "markdown",
   "id": "546ecfb6-d788-4706-b0f7-97ce7dd7d14d",
   "metadata": {},
   "source": [
    "## Using Numba with CuPy"
   ]
  },
  {
   "cell_type": "code",
   "execution_count": null,
   "id": "1c4242a8-ac95-4c7a-b9e6-ce1dff726519",
   "metadata": {},
   "outputs": [],
   "source": [
    "import cupy\n",
    "from numba import cuda\n",
    "\n",
    "@cuda.jit\n",
    "def add(x_array, y_array, output_array):\n",
    "        start = cuda.grid(1)\n",
    "        stride = cuda.gridsize(1)\n",
    "        for i in range(start, x.shape[0], stride):\n",
    "                output_array[i] = x_array[i] + y_array[i]\n",
    "\n",
    "a = cupy.arange(10)\n",
    "b = a * 2\n",
    "out = cupy.zeros_like(a)\n",
    "\n",
    "add[1, 32](a, b, out)\n",
    "\n",
    "print(out)  # => [ 0  3  6  9 12 15 18 21 24 27]"
   ]
  }
 ],
 "metadata": {
  "kernelspec": {
   "display_name": "Python 3 (ipykernel)",
   "language": "python",
   "name": "python3"
  },
  "language_info": {
   "codemirror_mode": {
    "name": "ipython",
    "version": 3
   },
   "file_extension": ".py",
   "mimetype": "text/x-python",
   "name": "python",
   "nbconvert_exporter": "python",
   "pygments_lexer": "ipython3",
   "version": "3.11.7"
  }
 },
 "nbformat": 4,
 "nbformat_minor": 5
}
