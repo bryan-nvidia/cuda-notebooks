{
 "cells": [
  {
   "cell_type": "markdown",
   "id": "190c98b6-4238-44d2-8578-012db6b89035",
   "metadata": {},
   "source": [
    "# Welcome to cuDF: GPU Accelerated Dataframes\n",
    "\n",
    "## What is cuDF?\n",
    "cuDF is a powerful library designed for manipulating large datasets using the computational power of GPUs. It offers a familiar interface similar to pandas but can handle much larger datasets faster.\n",
    "\n",
    "Let's start by installing cudf using pip. For other methods, please check the [RAPIDS Installation Guide](https://docs.rapids.ai/install/?_gl=1*1420qne*_ga*MTU3MTEzNzgxNC4xNzI0OTc1MzQ1*_ga_RKXFW6CM42*MTcyODM5MTMxNS4xNS4wLjE3MjgzOTEzMTUuNjAuMC4w)"
   ]
  },
  {
   "cell_type": "code",
   "execution_count": 1,
   "id": "2781ba74-e341-4e2e-9317-a64967fcabc5",
   "metadata": {},
   "outputs": [
    {
     "name": "stdout",
     "output_type": "stream",
     "text": [
      "Looking in indexes: https://pypi.org/simple, https://pypi.nvidia.com\n",
      "Collecting cudf-cu12==24.8.*\n",
      "  Downloading https://pypi.nvidia.com/cudf-cu12/cudf_cu12-24.8.3-cp311-cp311-manylinux_2_28_x86_64.whl (517.8 MB)\n",
      "\u001b[2K     \u001b[90m━━━━━━━━━━━━━━━━━━━━━━━━━━━━━━━━━━━━━━\u001b[0m \u001b[32m517.8/517.8 MB\u001b[0m \u001b[31m45.9 MB/s\u001b[0m eta \u001b[36m0:00:00\u001b[0m00:01\u001b[0m00:01\u001b[0m\n",
      "\u001b[?25hRequirement already satisfied: cachetools in /opt/conda/lib/python3.11/site-packages (from cudf-cu12==24.8.*) (5.4.0)\n",
      "Requirement already satisfied: cuda-python<13.0a0,>=12.0 in /opt/conda/lib/python3.11/site-packages (from cudf-cu12==24.8.*) (12.6.0)\n",
      "Collecting cupy-cuda12x>=12.0.0 (from cudf-cu12==24.8.*)\n",
      "  Downloading cupy_cuda12x-13.3.0-cp311-cp311-manylinux2014_x86_64.whl.metadata (2.7 kB)\n",
      "Requirement already satisfied: fsspec>=0.6.0 in /opt/conda/lib/python3.11/site-packages (from cudf-cu12==24.8.*) (2024.6.1)\n",
      "Requirement already satisfied: numba>=0.57 in /opt/conda/lib/python3.11/site-packages (from cudf-cu12==24.8.*) (0.60.0)\n",
      "Requirement already satisfied: numpy<2.0a0,>=1.23 in /opt/conda/lib/python3.11/site-packages (from cudf-cu12==24.8.*) (1.26.4)\n",
      "Requirement already satisfied: nvtx>=0.2.1 in /opt/conda/lib/python3.11/site-packages (from cudf-cu12==24.8.*) (0.2.10)\n",
      "Requirement already satisfied: packaging in /opt/conda/lib/python3.11/site-packages (from cudf-cu12==24.8.*) (24.1)\n",
      "Requirement already satisfied: pandas<2.2.3dev0,>=2.0 in /opt/conda/lib/python3.11/site-packages (from cudf-cu12==24.8.*) (2.2.2)\n",
      "Requirement already satisfied: pyarrow<16.2.0a0,>=16.1.0 in /opt/conda/lib/python3.11/site-packages (from cudf-cu12==24.8.*) (16.1.0)\n",
      "Requirement already satisfied: pynvjitlink-cu12 in /opt/conda/lib/python3.11/site-packages (from cudf-cu12==24.8.*) (0.3.0)\n",
      "Requirement already satisfied: rich in /opt/conda/lib/python3.11/site-packages (from cudf-cu12==24.8.*) (13.7.1)\n",
      "Collecting rmm-cu12==24.8.* (from cudf-cu12==24.8.*)\n",
      "  Downloading https://pypi.nvidia.com/rmm-cu12/rmm_cu12-24.8.2-cp311-cp311-manylinux_2_24_x86_64.manylinux_2_28_x86_64.whl (1.7 MB)\n",
      "\u001b[2K     \u001b[90m━━━━━━━━━━━━━━━━━━━━━━━━━━━━━━━━━━━━━━━━\u001b[0m \u001b[32m1.7/1.7 MB\u001b[0m \u001b[31m57.0 MB/s\u001b[0m eta \u001b[36m0:00:00\u001b[0m\n",
      "\u001b[?25hRequirement already satisfied: typing_extensions>=4.0.0 in /opt/conda/lib/python3.11/site-packages (from cudf-cu12==24.8.*) (4.12.2)\n",
      "Requirement already satisfied: fastrlock>=0.5 in /opt/conda/lib/python3.11/site-packages (from cupy-cuda12x>=12.0.0->cudf-cu12==24.8.*) (0.8.2)\n",
      "Requirement already satisfied: llvmlite<0.44,>=0.43.0dev0 in /opt/conda/lib/python3.11/site-packages (from numba>=0.57->cudf-cu12==24.8.*) (0.43.0)\n",
      "Requirement already satisfied: python-dateutil>=2.8.2 in /opt/conda/lib/python3.11/site-packages (from pandas<2.2.3dev0,>=2.0->cudf-cu12==24.8.*) (2.9.0)\n",
      "Requirement already satisfied: pytz>=2020.1 in /opt/conda/lib/python3.11/site-packages (from pandas<2.2.3dev0,>=2.0->cudf-cu12==24.8.*) (2024.1)\n",
      "Requirement already satisfied: tzdata>=2022.7 in /opt/conda/lib/python3.11/site-packages (from pandas<2.2.3dev0,>=2.0->cudf-cu12==24.8.*) (2024.1)\n",
      "Requirement already satisfied: markdown-it-py>=2.2.0 in /opt/conda/lib/python3.11/site-packages (from rich->cudf-cu12==24.8.*) (3.0.0)\n",
      "Requirement already satisfied: pygments<3.0.0,>=2.13.0 in /opt/conda/lib/python3.11/site-packages (from rich->cudf-cu12==24.8.*) (2.18.0)\n",
      "Requirement already satisfied: mdurl~=0.1 in /opt/conda/lib/python3.11/site-packages (from markdown-it-py>=2.2.0->rich->cudf-cu12==24.8.*) (0.1.2)\n",
      "Requirement already satisfied: six>=1.5 in /opt/conda/lib/python3.11/site-packages (from python-dateutil>=2.8.2->pandas<2.2.3dev0,>=2.0->cudf-cu12==24.8.*) (1.16.0)\n",
      "Downloading cupy_cuda12x-13.3.0-cp311-cp311-manylinux2014_x86_64.whl (91.2 MB)\n",
      "\u001b[2K   \u001b[90m━━━━━━━━━━━━━━━━━━━━━━━━━━━━━━━━━━━━━━━━\u001b[0m \u001b[32m91.2/91.2 MB\u001b[0m \u001b[31m72.2 MB/s\u001b[0m eta \u001b[36m0:00:00\u001b[0m:00:01\u001b[0m00:01\u001b[0m\n",
      "\u001b[?25hInstalling collected packages: cupy-cuda12x, rmm-cu12, cudf-cu12\n",
      "Successfully installed cudf-cu12-24.8.3 cupy-cuda12x-13.3.0 rmm-cu12-24.8.2\n"
     ]
    }
   ],
   "source": [
    "!pip install \\\n",
    "    --extra-index-url=https://pypi.nvidia.com \\\n",
    "    cudf-cu12==24.8.*"
   ]
  },
  {
   "cell_type": "markdown",
   "id": "d30de7fc-3733-45f9-a9e3-6f2af2fc60fa",
   "metadata": {},
   "source": [
    "## 📊 Your 1st cuDF Dataframe\n",
    "\n",
    "Let’s start by creating our first cuDF DataFrame:"
   ]
  },
  {
   "cell_type": "code",
   "execution_count": 8,
   "id": "3cf43262-e9cd-42a3-b907-cded8cdf2880",
   "metadata": {},
   "outputs": [
    {
     "name": "stdout",
     "output_type": "stream",
     "text": [
      "          A         B         C\n",
      "0  0.949641  0.879344  0.442241\n",
      "1  0.393400  0.870158  0.498193\n",
      "2  0.807076  0.506883  0.098362\n",
      "3  0.102371  0.486801  0.730431\n",
      "4  0.095091  0.677342  0.412487\n"
     ]
    }
   ],
   "source": [
    "import cudf\n",
    "import numpy as np\n",
    "\n",
    "numRows = 1000000\n",
    "# Create a DataFrame with cuDF\n",
    "data = {\n",
    "    'A': np.random.rand(numRows),\n",
    "    'B': np.random.rand(numRows),\n",
    "    'C': np.random.rand(numRows)\n",
    "}\n",
    "gdf = cudf.DataFrame(data)\n",
    "\n",
    "# Display the first few rows\n",
    "print(gdf.head())\n"
   ]
  },
  {
   "cell_type": "markdown",
   "id": "48a8e6b1-084e-4bc8-839a-d15376053e6f",
   "metadata": {},
   "source": [
    "## 📊 Explore the DataFrame\n",
    "\n",
    "Now that we have created the dataframe, let's explore it!\n",
    "\n",
    "**Shape:**"
   ]
  },
  {
   "cell_type": "code",
   "execution_count": 3,
   "id": "e242afbc-3645-464a-bd65-d2c7f72a24a1",
   "metadata": {},
   "outputs": [
    {
     "data": {
      "text/plain": [
       "(1000000, 3)"
      ]
     },
     "execution_count": 3,
     "metadata": {},
     "output_type": "execute_result"
    }
   ],
   "source": [
    "gdf.shape"
   ]
  },
  {
   "cell_type": "markdown",
   "id": "f64c458e-5989-4d8d-be44-a81d63c5fcbc",
   "metadata": {},
   "source": [
    "As you can see, the first value corresponds to the number of rows we have, while the second indicates the number of columns we created.\n",
    "\n",
    "Get a more comprehensive view of the dataframe using the .info method!"
   ]
  },
  {
   "cell_type": "code",
   "execution_count": 4,
   "id": "cc82a31c-08c1-47de-b84c-8093c3dcca46",
   "metadata": {
    "scrolled": true
   },
   "outputs": [
    {
     "data": {
      "text/plain": [
       "<bound method DataFrame.info of                A         B         C\n",
       "0       0.067609  0.508237  0.849234\n",
       "1       0.606739  0.271058  0.316622\n",
       "2       0.232824  0.598659  0.014538\n",
       "3       0.469160  0.715005  0.855415\n",
       "4       0.452243  0.638148  0.736776\n",
       "...          ...       ...       ...\n",
       "999995  0.942827  0.801837  0.561716\n",
       "999996  0.175658  0.403991  0.330349\n",
       "999997  0.835403  0.953952  0.199196\n",
       "999998  0.546117  0.175619  0.376347\n",
       "999999  0.314654  0.914983  0.311265\n",
       "\n",
       "[1000000 rows x 3 columns]>"
      ]
     },
     "execution_count": 4,
     "metadata": {},
     "output_type": "execute_result"
    }
   ],
   "source": [
    "gdf.info"
   ]
  },
  {
   "cell_type": "markdown",
   "id": "24c438c7-65b8-44d5-aef9-0a648e78a905",
   "metadata": {},
   "source": [
    "## 📊 Filtering Data\n",
    "\n",
    "Filtering data is a breeze with cuDF! Let's say you want to filter rows where column 'A' is greater than 0.5:"
   ]
  },
  {
   "cell_type": "code",
   "execution_count": 10,
   "id": "d29f1439-5326-4de0-b9e2-339edc5c30b2",
   "metadata": {},
   "outputs": [
    {
     "name": "stdout",
     "output_type": "stream",
     "text": [
      "As you can tell from the shape of the new filtered dataframe, the number of rows reduced from 1000000 to 500559. That's 499441 rows that we've filtered out with 'A' values less than 0.5!\n"
     ]
    }
   ],
   "source": [
    "filtered_gdf = gdf[gdf['A'] > 0.5]\n",
    "filtered_gdf.shape\n",
    "print(f\"As you can tell from the shape of the new filtered dataframe, the number of rows reduced from {numRows} to {filtered_gdf.shape[0]}. That's {numRows - filtered_gdf.shape[0]} rows that we've filtered out with 'A' values less than 0.5!\")"
   ]
  },
  {
   "cell_type": "markdown",
   "id": "bb154ae9-1482-4b0d-8def-a263074b5a96",
   "metadata": {},
   "source": [
    "## 📊 Grouping & Aggregating\n",
    "\n",
    "Want to group your data and calculate averages? \n",
    "Let's create another dataframe with categories: "
   ]
  },
  {
   "cell_type": "code",
   "execution_count": 23,
   "id": "95135154-8214-4a4e-9bff-43c974d00117",
   "metadata": {},
   "outputs": [
    {
     "data": {
      "text/html": [
       "<div>\n",
       "<style scoped>\n",
       "    .dataframe tbody tr th:only-of-type {\n",
       "        vertical-align: middle;\n",
       "    }\n",
       "\n",
       "    .dataframe tbody tr th {\n",
       "        vertical-align: top;\n",
       "    }\n",
       "\n",
       "    .dataframe thead th {\n",
       "        text-align: right;\n",
       "    }\n",
       "</style>\n",
       "<table border=\"1\" class=\"dataframe\">\n",
       "  <thead>\n",
       "    <tr style=\"text-align: right;\">\n",
       "      <th></th>\n",
       "      <th>Category</th>\n",
       "      <th>Value</th>\n",
       "    </tr>\n",
       "  </thead>\n",
       "  <tbody>\n",
       "    <tr>\n",
       "      <th>0</th>\n",
       "      <td>A</td>\n",
       "      <td>10</td>\n",
       "    </tr>\n",
       "    <tr>\n",
       "      <th>1</th>\n",
       "      <td>B</td>\n",
       "      <td>20</td>\n",
       "    </tr>\n",
       "    <tr>\n",
       "      <th>2</th>\n",
       "      <td>A</td>\n",
       "      <td>30</td>\n",
       "    </tr>\n",
       "    <tr>\n",
       "      <th>3</th>\n",
       "      <td>B</td>\n",
       "      <td>40</td>\n",
       "    </tr>\n",
       "    <tr>\n",
       "      <th>4</th>\n",
       "      <td>A</td>\n",
       "      <td>50</td>\n",
       "    </tr>\n",
       "  </tbody>\n",
       "</table>\n",
       "</div>"
      ],
      "text/plain": [
       "  Category  Value\n",
       "0        A     10\n",
       "1        B     20\n",
       "2        A     30\n",
       "3        B     40\n",
       "4        A     50"
      ]
     },
     "execution_count": 23,
     "metadata": {},
     "output_type": "execute_result"
    }
   ],
   "source": [
    "data = {\n",
    "    'Category': ['A', 'B', 'A', 'B', 'A'],\n",
    "    'Value': [10, 20, 30, 40, 50]\n",
    "}\n",
    "gdf = cudf.DataFrame(data)\n",
    "gdf"
   ]
  },
  {
   "cell_type": "markdown",
   "id": "774a7304-0384-424c-9fcd-2d0751d984e2",
   "metadata": {},
   "source": []
  },
  {
   "cell_type": "code",
   "execution_count": 30,
   "id": "bf1bae60-1f4d-4d16-bffd-41844159c5e6",
   "metadata": {},
   "outputs": [
    {
     "name": "stdout",
     "output_type": "stream",
     "text": [
      "  Category  Value\n",
      "0        B   30.0\n",
      "1        A   30.0\n"
     ]
    }
   ],
   "source": [
    "# Group by 'Category' and calculate the mean\n",
    "\n",
    "grouped = gdf.groupby('Category')['Value'].mean().reset_index()\n",
    "print(grouped)"
   ]
  },
  {
   "cell_type": "markdown",
   "id": "76230472",
   "metadata": {},
   "source": [
    "## 📊 Data Manipulation\n",
    "\n",
    "### Adding a New Column:\n",
    "\n"
   ]
  },
  {
   "cell_type": "code",
   "execution_count": null,
   "id": "8b7db0f5",
   "metadata": {},
   "outputs": [],
   "source": [
    "gdf['NewValue'] = gdf['Value'] * 2"
   ]
  },
  {
   "cell_type": "markdown",
   "id": "c98dcbe3",
   "metadata": {},
   "source": [
    "### Modifying Existing Columns:"
   ]
  },
  {
   "cell_type": "code",
   "execution_count": null,
   "id": "708ef403",
   "metadata": {},
   "outputs": [],
   "source": [
    "gdf['A'] = gdf['A'] ** 2"
   ]
  },
  {
   "cell_type": "markdown",
   "id": "fd4106b4",
   "metadata": {},
   "source": [
    "### Dropping Columns:"
   ]
  },
  {
   "cell_type": "code",
   "execution_count": null,
   "id": "528167c9",
   "metadata": {},
   "outputs": [],
   "source": [
    "gdf = gdf.drop('NewValue', axis=1)"
   ]
  },
  {
   "cell_type": "markdown",
   "id": "9c97d190",
   "metadata": {},
   "source": [
    "### Renaming Columns:"
   ]
  },
  {
   "cell_type": "code",
   "execution_count": null,
   "id": "ef08fcb4",
   "metadata": {},
   "outputs": [],
   "source": [
    "gdf = gdf.rename(columns={'Value': 'newValue', 'Category': 'newCategory'})\n"
   ]
  },
  {
   "cell_type": "markdown",
   "id": "72aa0299",
   "metadata": {},
   "source": [
    "## 📊 Sorting Data\n",
    "\n",
    "### Sorting Column Values "
   ]
  },
  {
   "cell_type": "code",
   "execution_count": null,
   "id": "817954f1",
   "metadata": {},
   "outputs": [],
   "source": [
    "sorted_gdf = gdf.sort_values(by='newValue', ascending=True)\n"
   ]
  },
  {
   "cell_type": "markdown",
   "id": "1e886a62",
   "metadata": {},
   "source": [
    "## 📊 Handling Missing Data\n",
    "### Detecting Missing Values:"
   ]
  },
  {
   "cell_type": "code",
   "execution_count": null,
   "id": "9783a3e9",
   "metadata": {},
   "outputs": [],
   "source": [
    "missing_mask = gdf.isnull()"
   ]
  },
  {
   "cell_type": "markdown",
   "id": "f8ae21b3",
   "metadata": {},
   "source": [
    "### Filling Missing Values:"
   ]
  },
  {
   "cell_type": "code",
   "execution_count": null,
   "id": "87c01a8e",
   "metadata": {},
   "outputs": [],
   "source": [
    "gdf['newValue'] = gdf['newValue'].fillna(0)"
   ]
  },
  {
   "cell_type": "markdown",
   "id": "4cb26977",
   "metadata": {},
   "source": [
    "### Dropping Missing Values:"
   ]
  },
  {
   "cell_type": "code",
   "execution_count": null,
   "id": "9779185c",
   "metadata": {},
   "outputs": [],
   "source": [
    "gdf = gdf.dropna()"
   ]
  },
  {
   "cell_type": "markdown",
   "id": "9ab3f686",
   "metadata": {},
   "source": [
    "## 📊 Merging and Joining DataFrames\n",
    "\n",
    "### Concatenating another Dataframe:"
   ]
  },
  {
   "cell_type": "code",
   "execution_count": null,
   "id": "205c8acc",
   "metadata": {},
   "outputs": [],
   "source": [
    "additional_data = {\n",
    "    'Category': ['A', 'C'],\n",
    "    'Value': [60, 70]\n",
    "}\n",
    "gdf2 = cudf.DataFrame(additional_data)\n",
    "\n",
    "combined_gdf = cudf.concat([gdf, gdf2], ignore_index=True)\n",
    "print(combined_gdf)"
   ]
  },
  {
   "cell_type": "markdown",
   "id": "81663251",
   "metadata": {},
   "source": [
    "## 📊 Input/Output"
   ]
  },
  {
   "cell_type": "code",
   "execution_count": null,
   "id": "f3c3de25",
   "metadata": {},
   "outputs": [],
   "source": [
    "gdf.to_csv('output.csv', index=False) # To CSV"
   ]
  },
  {
   "cell_type": "markdown",
   "id": "b360d3ef",
   "metadata": {},
   "source": []
  }
 ],
 "metadata": {
  "kernelspec": {
   "display_name": "Python 3 (ipykernel)",
   "language": "python",
   "name": "python3"
  },
  "language_info": {
   "codemirror_mode": {
    "name": "ipython",
    "version": 3
   },
   "file_extension": ".py",
   "mimetype": "text/x-python",
   "name": "python",
   "nbconvert_exporter": "python",
   "pygments_lexer": "ipython3",
   "version": "3.11.9"
  }
 },
 "nbformat": 4,
 "nbformat_minor": 5
}
